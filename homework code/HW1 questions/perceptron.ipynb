{
 "cells": [
  {
   "cell_type": "markdown",
   "metadata": {
    "id": "9-rUkkInxNBQ"
   },
   "source": [
    "# HW 1: Perceptron"
   ]
  },
  {
   "cell_type": "markdown",
   "metadata": {
    "id": "MQn2Mv4-xNBT"
   },
   "source": [
    "Note: you can add text written in Markdown to this notebook to explain your work and your conclusions. In local Jupyter, add a new cell by using the \"+\" button on the toolbar), and set it to be a markdown cell (by toggling the \"Code\" dropdown on the toolbar to say \"Markdown\" instead). In Colab, use the +Text button on the toolbar.\n",
    "\n",
    "For examples of how to use Markdown, look at the examples in this notebook, or [this cheatsheet](https://github.com/adam-p/markdown-here/wiki/Markdown-Cheatsheet)."
   ]
  },
  {
   "cell_type": "code",
   "execution_count": 1,
   "metadata": {
    "executionInfo": {
     "elapsed": 349,
     "status": "ok",
     "timestamp": 1630458076032,
     "user": {
      "displayName": "Madeleine Udell",
      "photoUrl": "",
      "userId": "02596981583694187873"
     },
     "user_tz": 240
    },
    "id": "xxYSszGAxNBU"
   },
   "outputs": [],
   "source": [
    "import numpy as np\n",
    "from numpy.random import randn\n",
    "import pandas as pd\n",
    "import matplotlib.pyplot as plt \n",
    "%matplotlib inline"
   ]
  },
  {
   "cell_type": "code",
   "execution_count": 2,
   "metadata": {
    "executionInfo": {
     "elapsed": 6,
     "status": "ok",
     "timestamp": 1630458076033,
     "user": {
      "displayName": "Madeleine Udell",
      "photoUrl": "",
      "userId": "02596981583694187873"
     },
     "user_tz": 240
    },
    "id": "QAX0uEcSxNBW"
   },
   "outputs": [],
   "source": [
    "# make the code reproducible \n",
    "np.random.seed(3)"
   ]
  },
  {
   "cell_type": "markdown",
   "metadata": {
    "id": "t1tIEEQ8xNBX"
   },
   "source": [
    "## Generate Data"
   ]
  },
  {
   "cell_type": "code",
   "execution_count": 3,
   "metadata": {
    "executionInfo": {
     "elapsed": 298,
     "status": "ok",
     "timestamp": 1630459643652,
     "user": {
      "displayName": "Madeleine Udell",
      "photoUrl": "",
      "userId": "02596981583694187873"
     },
     "user_tz": 240
    },
    "id": "TEDHQpJ2xNBX"
   },
   "outputs": [],
   "source": [
    "n = 50\n",
    "d = 2\n",
    "feature_dict = {'feature 1': randn(n),\n",
    "                'feature 2': randn(n),\n",
    "                'offset':    np.ones(n)}\n",
    "X = pd.DataFrame(data=feature_dict)\n",
    "w_true = pd.Series(randn(d+1), index=X.columns)\n",
    "y = np.sign(X.dot(w_true))"
   ]
  },
  {
   "cell_type": "code",
   "execution_count": 25,
   "metadata": {},
   "outputs": [
    {
     "data": {
      "text/plain": [
       "feature 1    0.874286\n",
       "feature 2   -1.293537\n",
       "offset      -0.079741\n",
       "dtype: float64"
      ]
     },
     "execution_count": 25,
     "metadata": {},
     "output_type": "execute_result"
    }
   ],
   "source": [
    "w_true"
   ]
  },
  {
   "cell_type": "markdown",
   "metadata": {
    "id": "2jpbz1hTxNBY"
   },
   "source": [
    "## Visualize Data"
   ]
  },
  {
   "cell_type": "code",
   "execution_count": 41,
   "metadata": {
    "executionInfo": {
     "elapsed": 283,
     "status": "ok",
     "timestamp": 1630458356077,
     "user": {
      "displayName": "Madeleine Udell",
      "photoUrl": "",
      "userId": "02596981583694187873"
     },
     "user_tz": 240
    },
    "id": "qgGzcm9ExNBY"
   },
   "outputs": [],
   "source": [
    "def plot_perceptron(X,y,w,plot_classification_boundary=True):\n",
    "    for index, row in X.iterrows():\n",
    "        if y[index] > 0:\n",
    "            plt.scatter(row[0],row[1],color='blue',marker='s',label=\"y=1\")\n",
    "        else: \n",
    "            plt.scatter(row[0],row[1],color='red',marker='o',label=\"y=-1\")\n",
    "\n",
    "    plt.xlim(-4,4)\n",
    "    plt.ylim(-4,4)\n",
    "\n",
    "    if plot_classification_boundary:\n",
    "        x1samples = np.arange(np.min(X['feature 1']),np.max(X['feature 1']),0.1)\n",
    "        plt.plot(x1samples, [-(w[0]*x1 + w[2])/w[1] for x1 in x1samples],color='black',label='classification boundary')\n",
    "    plt.show()"
   ]
  },
  {
   "cell_type": "code",
   "execution_count": 5,
   "metadata": {
    "colab": {
     "base_uri": "https://localhost:8080/",
     "height": 269
    },
    "executionInfo": {
     "elapsed": 609,
     "status": "ok",
     "timestamp": 1630458358171,
     "user": {
      "displayName": "Madeleine Udell",
      "photoUrl": "",
      "userId": "02596981583694187873"
     },
     "user_tz": 240
    },
    "id": "jRQK2p9fxNBa",
    "outputId": "eb17f22c-688f-40bf-c1c2-62512d0cd16c"
   },
   "outputs": [
    {
     "data": {
      "image/png": "[encoded data removed]",
      "text/plain": [
       "<Figure size 640x480 with 1 Axes>"
      ]
     },
     "metadata": {},
     "output_type": "display_data"
    }
   ],
   "source": [
    "plot_perceptron(X,y,w_true)"
   ]
  },
  {
   "cell_type": "markdown",
   "metadata": {
    "id": "TCMhZO10xNBc"
   },
   "source": [
    "## a) Code the missing parts of the Perceptron algorithm"
   ]
  },
  {
   "cell_type": "markdown",
   "metadata": {
    "id": "Nzv-kcw6xNBd"
   },
   "source": [
    "Inputs to Perceptron are:\n",
    "\n",
    "required arguments: <br>\n",
    "X = data points <br>\n",
    "Y = true values <br>\n",
    "\n",
    "optional arguments: <br>\n",
    "maxchecks = maximum number of data points to look out, which may or may not violate the perceptron condition (default: 1000) <br>\n",
    "maxiters = maximum number of updates to w (default: 100) <br>\n",
    "w_0 = initial guess of w (default: random) <br>\n",
    "\n",
    "Perceptron should start with the input guess of w, look at most maxchecks data points and make at most maxiters updates, and return the final w."
   ]
  },
  {
   "cell_type": "code",
   "execution_count": 18,
   "metadata": {},
   "outputs": [
    {
     "data": {
      "text/plain": [
       "array([[ 1.78862847,  1.01318344],\n",
       "       [ 0.43650985,  0.85279784],\n",
       "       [ 0.09649747,  1.1081875 ],\n",
       "       [-1.8634927 ,  1.11939066],\n",
       "       [-0.2773882 ,  1.48754313],\n",
       "       [-0.35475898, -1.11830068],\n",
       "       [-0.08274148,  0.84583341],\n",
       "       [-0.62700068, -1.86088953],\n",
       "       [-0.04381817, -0.6028851 ],\n",
       "       [-0.47721803, -1.91447204],\n",
       "       [-1.31386475,  1.04814751],\n",
       "       [ 0.88462238,  1.33373782],\n",
       "       [ 0.88131804, -0.19741468],\n",
       "       [ 1.70957306,  1.77464503],\n",
       "       [ 0.05003364, -0.67472751],\n",
       "       [-0.40467741,  0.15061687],\n",
       "       [-0.54535995,  0.1529457 ],\n",
       "       [-1.54647732, -1.06419527],\n",
       "       [ 0.98236743,  0.43794661],\n",
       "       [-1.10106763,  1.93897846],\n",
       "       [-1.18504653, -1.02493087],\n",
       "       [-0.2056499 ,  0.89933845],\n",
       "       [ 1.48614836, -0.15450685],\n",
       "       [ 0.23671627,  1.7696273 ],\n",
       "       [-1.02378514,  0.48378835],\n",
       "       [-0.7129932 ,  0.6762164 ],\n",
       "       [ 0.62524497,  0.64316328],\n",
       "       [-0.16051336,  0.24908671],\n",
       "       [-0.76883635, -1.3957635 ],\n",
       "       [-0.23003072,  1.39166291],\n",
       "       [ 0.74505627, -1.37066901],\n",
       "       [ 1.97611078,  0.23856319],\n",
       "       [-1.24412333,  0.61407709],\n",
       "       [-0.62641691, -0.83791227],\n",
       "       [-0.80376609,  0.14506321],\n",
       "       [-2.41908317,  1.16788229],\n",
       "       [-0.92379202, -0.02410447],\n",
       "       [-1.02387576, -0.88865742],\n",
       "       [ 1.12397796, -2.91573775],\n",
       "       [-0.13191423, -0.9718405 ],\n",
       "       [-1.62328545, -0.59107874],\n",
       "       [ 0.64667545, -0.51641737],\n",
       "       [-0.35627076, -0.95999618],\n",
       "       [-1.74314104,  0.37729523],\n",
       "       [-0.59664964, -0.57470842],\n",
       "       [-0.58859438, -0.10945433],\n",
       "       [-0.8738823 ,  0.6790716 ],\n",
       "       [ 0.02971382, -0.85543717],\n",
       "       [-2.24825777, -0.30020607],\n",
       "       [-0.26776186,  2.15814934]])"
      ]
     },
     "execution_count": 18,
     "metadata": {},
     "output_type": "execute_result"
    }
   ],
   "source": [
    "X[['feature 1', 'feature 2']].to_numpy()"
   ]
  },
  {
   "cell_type": "code",
   "execution_count": 23,
   "metadata": {
    "executionInfo": {
     "elapsed": 266,
     "status": "ok",
     "timestamp": 1630458397609,
     "user": {
      "displayName": "Madeleine Udell",
      "photoUrl": "",
      "userId": "02596981583694187873"
     },
     "user_tz": 240
    },
    "id": "iTu_NIVtxNBe"
   },
   "outputs": [],
   "source": [
    "# Python does not allow the argument of a function to depend on another argument, \n",
    "# so we bypass the issue by setting w_0 = None and assigning it immediately in the function\n",
    "def perceptron(X=X,y=y,w_0=None,maxchecks=1000,maxiters=100): \n",
    "    if w_0 is None:\n",
    "        w_0=randn(X.shape[1])\n",
    "    w = w_0\n",
    "    ### ENTER YOUR CODE HERE\n",
    "    check_count = 0\n",
    "    for iter in range(maxiters):\n",
    "        for point, label in zip(X, y):\n",
    "            prediction = np.dot(w, point)\n",
    "            agreement = prediction * label\n",
    "            mistake = agreement <= 0\n",
    "            if mistake:\n",
    "                update = label * point\n",
    "                w += update\n",
    "                check_count += 1\n",
    "            if check_count > maxchecks:\n",
    "                break\n",
    "    return w"
   ]
  },
  {
   "cell_type": "markdown",
   "metadata": {
    "id": "vqa5BtQrxNBe"
   },
   "source": [
    "## b) Run perceptron on the above linearly separable data set"
   ]
  },
  {
   "cell_type": "code",
   "execution_count": 27,
   "metadata": {},
   "outputs": [
    {
     "data": {
      "text/plain": [
       "array([ 1.60494758, -2.2434307 , -0.1680901 ])"
      ]
     },
     "execution_count": 27,
     "metadata": {},
     "output_type": "execute_result"
    }
   ],
   "source": [
    "w = perceptron(X.to_numpy(),y)\n",
    "w"
   ]
  },
  {
   "cell_type": "code",
   "execution_count": 29,
   "metadata": {},
   "outputs": [
    {
     "data": {
      "image/png": "[encoded data removed]",
      "text/plain": [
       "<Figure size 640x480 with 1 Axes>"
      ]
     },
     "metadata": {},
     "output_type": "display_data"
    }
   ],
   "source": [
    "plot_perceptron(X,y,w)"
   ]
  },
  {
   "cell_type": "markdown",
   "metadata": {
    "id": "8T_LtUyQxNBf"
   },
   "source": [
    "## c) Run perceptron on data sets of size n = 20, 100, and 1000"
   ]
  },
  {
   "cell_type": "markdown",
   "metadata": {},
   "source": [
    "## For n = 20"
   ]
  },
  {
   "cell_type": "code",
   "execution_count": 30,
   "metadata": {},
   "outputs": [],
   "source": [
    "n = 20\n",
    "d = 2\n",
    "feature_dict = {'feature 1': randn(n),\n",
    "                'feature 2': randn(n),\n",
    "                'offset':    np.ones(n)}\n",
    "X = pd.DataFrame(data=feature_dict)\n",
    "w_true = pd.Series(randn(d+1), index=X.columns)\n",
    "y = np.sign(X.dot(w_true))"
   ]
  },
  {
   "cell_type": "code",
   "execution_count": 31,
   "metadata": {},
   "outputs": [
    {
     "data": {
      "text/plain": [
       "array([-2.71900807, -1.90417221, -2.23563662])"
      ]
     },
     "execution_count": 31,
     "metadata": {},
     "output_type": "execute_result"
    }
   ],
   "source": [
    "w_20 = perceptron(X.to_numpy(),y)\n",
    "w_20"
   ]
  },
  {
   "cell_type": "code",
   "execution_count": 32,
   "metadata": {},
   "outputs": [
    {
     "data": {
      "image/png": "[encoded data removed]",
      "text/plain": [
       "<Figure size 640x480 with 1 Axes>"
      ]
     },
     "metadata": {},
     "output_type": "display_data"
    }
   ],
   "source": [
    "plot_perceptron(X,y,w_20)"
   ]
  },
  {
   "cell_type": "markdown",
   "metadata": {},
   "source": [
    "## For n = 100"
   ]
  },
  {
   "cell_type": "code",
   "execution_count": 44,
   "metadata": {},
   "outputs": [],
   "source": [
    "n = 100\n",
    "d = 2\n",
    "feature_dict = {'feature 1': randn(n),\n",
    "                'feature 2': randn(n),\n",
    "                'offset':    np.ones(n)}\n",
    "X = pd.DataFrame(data=feature_dict)\n",
    "w_true = pd.Series(randn(d+1), index=X.columns)\n",
    "y = np.sign(X.dot(w_true))"
   ]
  },
  {
   "cell_type": "code",
   "execution_count": 45,
   "metadata": {},
   "outputs": [
    {
     "data": {
      "text/plain": [
       "array([-4.95001656, -4.99214931,  2.247167  ])"
      ]
     },
     "execution_count": 45,
     "metadata": {},
     "output_type": "execute_result"
    }
   ],
   "source": [
    "w_100 = perceptron(X.to_numpy(),y)\n",
    "w_100"
   ]
  },
  {
   "cell_type": "code",
   "execution_count": 46,
   "metadata": {},
   "outputs": [
    {
     "data": {
      "image/png": "[encoded data removed]",
      "text/plain": [
       "<Figure size 640x480 with 1 Axes>"
      ]
     },
     "metadata": {},
     "output_type": "display_data"
    }
   ],
   "source": [
    "plot_perceptron(X,y,w_100)"
   ]
  },
  {
   "cell_type": "markdown",
   "metadata": {},
   "source": [
    "## For n = 1000"
   ]
  },
  {
   "cell_type": "code",
   "execution_count": 72,
   "metadata": {},
   "outputs": [],
   "source": [
    "n = 1000\n",
    "d = 2\n",
    "feature_dict = {'feature 1': randn(n),\n",
    "                'feature 2': randn(n),\n",
    "                'offset':    np.ones(n)}\n",
    "X = pd.DataFrame(data=feature_dict)\n",
    "w_true = pd.Series(randn(d+1), index=X.columns)\n",
    "y = np.sign(X.dot(w_true))"
   ]
  },
  {
   "cell_type": "code",
   "execution_count": 73,
   "metadata": {},
   "outputs": [
    {
     "data": {
      "text/plain": [
       "array([-21.6051552 ,  -7.97718473,  -7.36364638])"
      ]
     },
     "execution_count": 73,
     "metadata": {},
     "output_type": "execute_result"
    }
   ],
   "source": [
    "w_1000 = perceptron(X.to_numpy(),y)\n",
    "w_1000"
   ]
  },
  {
   "cell_type": "code",
   "execution_count": 49,
   "metadata": {},
   "outputs": [
    {
     "data": {
      "image/png": "[encoded data removed]",
      "text/plain": [
       "<Figure size 640x480 with 1 Axes>"
      ]
     },
     "metadata": {},
     "output_type": "display_data"
    }
   ],
   "source": [
    "plot_perceptron(X,y,w_1000)"
   ]
  },
  {
   "cell_type": "code",
   "execution_count": 50,
   "metadata": {},
   "outputs": [
    {
     "name": "stdout",
     "output_type": "stream",
     "text": [
      "-3.5462993469993016 4.091392759573651\n"
     ]
    }
   ],
   "source": [
    "print(np.min(X['feature 1']), np.max(X['feature 1']))"
   ]
  },
  {
   "cell_type": "markdown",
   "metadata": {
    "id": "OXtQjVtixNBg"
   },
   "source": [
    "## d) Run perceptron on data set of size n=1000 with dimension d=10"
   ]
  },
  {
   "cell_type": "code",
   "execution_count": 75,
   "metadata": {},
   "outputs": [],
   "source": [
    "n = 1000\n",
    "d = 10\n",
    "feature_dict = {}\n",
    "for i in range(1, 11):\n",
    "    feature_dict[f'feature {i}'] = randn(n)\n",
    "feature_dict['offset'] = np.ones(n)\n",
    "X = pd.DataFrame(data=feature_dict)\n",
    "# print(X)\n",
    "w_true = pd.Series(randn(d+1), index=X.columns)\n",
    "y = np.sign(X.dot(w_true))"
   ]
  },
  {
   "cell_type": "code",
   "execution_count": 76,
   "metadata": {},
   "outputs": [
    {
     "data": {
      "text/plain": [
       "array([ 10.3295039 ,   2.73876613,  53.8909688 ,  -4.10269996,\n",
       "        32.34599526, -10.91758301, -24.56059301, -11.35204   ,\n",
       "        24.42682948,   0.17103288,  14.27162644])"
      ]
     },
     "execution_count": 76,
     "metadata": {},
     "output_type": "execute_result"
    }
   ],
   "source": [
    "w_1000_10 = perceptron(X.to_numpy(),y)\n",
    "w_1000_10"
   ]
  },
  {
   "cell_type": "markdown",
   "metadata": {
    "id": "9uhhQg9dxNBi"
   },
   "source": [
    "## e) Run perceptron on dataset from (d) 100 times"
   ]
  },
  {
   "cell_type": "markdown",
   "metadata": {
    "id": "JZK51plcxNBi"
   },
   "source": [
    "Plot a histogram for the number of updates that the algorithm takes to converge. By convergence, we mean the distance between the normalized weight vectors is smaller than some small $\\epsilon>0$. For purposes of this problem, choose $\\epsilon = 0.1$.\n",
    "\n",
    "For this portion, make sure your perceptron implementation picks the next consideration point randomly instead of deterministically."
   ]
  },
  {
   "cell_type": "code",
   "execution_count": 146,
   "metadata": {},
   "outputs": [],
   "source": [
    "### STUDENT\n",
    "# Create a helper function that computes the euclidean distance between normalized versions of vectors x,y\n",
    "def distance(x,y):\n",
    "    ### ENTER YOUR CODE HERE\n",
    "    x_norm = x / np.linalg.norm(x)\n",
    "    y_norm = y / np.linalg.norm(y)\n",
    "    dist = np.linalg.norm(x_norm-y_norm)\n",
    "    return dist"
   ]
  },
  {
   "cell_type": "code",
   "execution_count": 183,
   "metadata": {},
   "outputs": [],
   "source": [
    "### STUDENT \n",
    "def perceptron_e(X=X,y=y,w_0=None,epsilon=0.1,w_true=w_true):\n",
    "    if w_0 is None:\n",
    "        w_0 = randn(X.shape[1])\n",
    "    ### ENTER YOUR CODE HERE\n",
    "    max_checks = 10000\n",
    "    n = X.shape[0]\n",
    "    steps = []\n",
    "    distances = []\n",
    "    ws = []\n",
    "    for _ in range(100):\n",
    "        w = w_0.copy()\n",
    "        check = 0\n",
    "        dist = 10\n",
    "        while check < max_checks:\n",
    "            i = np.random.randint(n)\n",
    "            point, label = X[i], y[i]\n",
    "            prediction = np.dot(w, point)\n",
    "            agreement = prediction * label\n",
    "            mistake = agreement <= 0\n",
    "\n",
    "            if mistake:\n",
    "                update = label * point\n",
    "                w += update\n",
    "                check += 1\n",
    "                dist = distance(w, w_true)\n",
    "                if dist < epsilon:\n",
    "                    break\n",
    "        steps.append(check)\n",
    "        distances.append(dist)\n",
    "        ws.append(w)\n",
    "        print(f'Round {_}, takes {check} updates to converge.')\n",
    "    return ws, steps, distances"
   ]
  },
  {
   "cell_type": "code",
   "execution_count": 187,
   "metadata": {},
   "outputs": [],
   "source": [
    "n = 1000\n",
    "d = 10\n",
    "feature_dict = {}\n",
    "for i in range(1, d+1):\n",
    "    feature_dict[f'feature {i}'] = randn(n)\n",
    "feature_dict['offset'] = np.ones(n)\n",
    "X = pd.DataFrame(data=feature_dict)\n",
    "# print(X)\n",
    "w_true = pd.Series(randn(d+1), index=X.columns)\n",
    "y = np.sign(X.dot(w_true))"
   ]
  },
  {
   "cell_type": "code",
   "execution_count": 188,
   "metadata": {},
   "outputs": [
    {
     "name": "stdout",
     "output_type": "stream",
     "text": [
      "Round 0, takes 142 updates to converge.\n",
      "Round 1, takes 145 updates to converge.\n",
      "Round 2, takes 154 updates to converge.\n",
      "Round 3, takes 172 updates to converge.\n",
      "Round 4, takes 184 updates to converge.\n",
      "Round 5, takes 165 updates to converge.\n",
      "Round 6, takes 116 updates to converge.\n",
      "Round 7, takes 166 updates to converge.\n",
      "Round 8, takes 107 updates to converge.\n",
      "Round 9, takes 111 updates to converge.\n",
      "Round 10, takes 126 updates to converge.\n",
      "Round 11, takes 81 updates to converge.\n",
      "Round 12, takes 117 updates to converge.\n",
      "Round 13, takes 59 updates to converge.\n",
      "Round 14, takes 82 updates to converge.\n",
      "Round 15, takes 100 updates to converge.\n",
      "Round 16, takes 150 updates to converge.\n",
      "Round 17, takes 96 updates to converge.\n",
      "Round 18, takes 164 updates to converge.\n",
      "Round 19, takes 108 updates to converge.\n",
      "Round 20, takes 143 updates to converge.\n",
      "Round 21, takes 94 updates to converge.\n",
      "Round 22, takes 112 updates to converge.\n",
      "Round 23, takes 113 updates to converge.\n",
      "Round 24, takes 62 updates to converge.\n",
      "Round 25, takes 201 updates to converge.\n",
      "Round 26, takes 149 updates to converge.\n",
      "Round 27, takes 159 updates to converge.\n",
      "Round 28, takes 142 updates to converge.\n",
      "Round 29, takes 86 updates to converge.\n",
      "Round 30, takes 120 updates to converge.\n",
      "Round 31, takes 182 updates to converge.\n",
      "Round 32, takes 155 updates to converge.\n",
      "Round 33, takes 115 updates to converge.\n",
      "Round 34, takes 90 updates to converge.\n",
      "Round 35, takes 146 updates to converge.\n",
      "Round 36, takes 175 updates to converge.\n",
      "Round 37, takes 127 updates to converge.\n",
      "Round 38, takes 134 updates to converge.\n",
      "Round 39, takes 193 updates to converge.\n",
      "Round 40, takes 157 updates to converge.\n",
      "Round 41, takes 116 updates to converge.\n",
      "Round 42, takes 218 updates to converge.\n",
      "Round 43, takes 90 updates to converge.\n",
      "Round 44, takes 154 updates to converge.\n",
      "Round 45, takes 135 updates to converge.\n",
      "Round 46, takes 107 updates to converge.\n",
      "Round 47, takes 156 updates to converge.\n",
      "Round 48, takes 108 updates to converge.\n",
      "Round 49, takes 104 updates to converge.\n",
      "Round 50, takes 140 updates to converge.\n",
      "Round 51, takes 92 updates to converge.\n",
      "Round 52, takes 199 updates to converge.\n",
      "Round 53, takes 119 updates to converge.\n",
      "Round 54, takes 144 updates to converge.\n",
      "Round 55, takes 92 updates to converge.\n",
      "Round 56, takes 78 updates to converge.\n",
      "Round 57, takes 104 updates to converge.\n",
      "Round 58, takes 106 updates to converge.\n",
      "Round 59, takes 166 updates to converge.\n",
      "Round 60, takes 125 updates to converge.\n",
      "Round 61, takes 121 updates to converge.\n",
      "Round 62, takes 122 updates to converge.\n",
      "Round 63, takes 143 updates to converge.\n",
      "Round 64, takes 132 updates to converge.\n",
      "Round 65, takes 167 updates to converge.\n",
      "Round 66, takes 136 updates to converge.\n",
      "Round 67, takes 142 updates to converge.\n",
      "Round 68, takes 127 updates to converge.\n",
      "Round 69, takes 84 updates to converge.\n",
      "Round 70, takes 164 updates to converge.\n",
      "Round 71, takes 78 updates to converge.\n",
      "Round 72, takes 174 updates to converge.\n",
      "Round 73, takes 97 updates to converge.\n",
      "Round 74, takes 108 updates to converge.\n",
      "Round 75, takes 110 updates to converge.\n",
      "Round 76, takes 197 updates to converge.\n",
      "Round 77, takes 119 updates to converge.\n",
      "Round 78, takes 125 updates to converge.\n",
      "Round 79, takes 186 updates to converge.\n",
      "Round 80, takes 135 updates to converge.\n",
      "Round 81, takes 130 updates to converge.\n",
      "Round 82, takes 96 updates to converge.\n",
      "Round 83, takes 128 updates to converge.\n",
      "Round 84, takes 124 updates to converge.\n",
      "Round 85, takes 128 updates to converge.\n",
      "Round 86, takes 156 updates to converge.\n",
      "Round 87, takes 124 updates to converge.\n",
      "Round 88, takes 187 updates to converge.\n",
      "Round 89, takes 106 updates to converge.\n",
      "Round 90, takes 130 updates to converge.\n",
      "Round 91, takes 190 updates to converge.\n",
      "Round 92, takes 113 updates to converge.\n",
      "Round 93, takes 121 updates to converge.\n",
      "Round 94, takes 80 updates to converge.\n",
      "Round 95, takes 160 updates to converge.\n",
      "Round 96, takes 88 updates to converge.\n",
      "Round 97, takes 129 updates to converge.\n",
      "Round 98, takes 108 updates to converge.\n",
      "Round 99, takes 172 updates to converge.\n"
     ]
    }
   ],
   "source": [
    "w_out, num_steps, distances = perceptron_e(X.to_numpy(), y, w_true=w_true)"
   ]
  },
  {
   "cell_type": "code",
   "execution_count": 189,
   "metadata": {},
   "outputs": [
    {
     "name": "stdout",
     "output_type": "stream",
     "text": [
      "100\n"
     ]
    },
    {
     "data": {
      "text/plain": [
       "<matplotlib.patches.StepPatch at 0x2135fea2770>"
      ]
     },
     "execution_count": 189,
     "metadata": {},
     "output_type": "execute_result"
    },
    {
     "data": {
      "image/png": "[encoded data removed]",
      "text/plain": [
       "<Figure size 640x480 with 1 Axes>"
      ]
     },
     "metadata": {},
     "output_type": "display_data"
    }
   ],
   "source": [
    "print(len(num_steps))\n",
    "counts, bins = np.histogram(num_steps)\n",
    "plt.stairs(counts, bins)"
   ]
  },
  {
   "cell_type": "markdown",
   "metadata": {},
   "source": [
    "## f)  Summarize your conclusions with respect to accuracy and running time as a function of n (size of data set) and d (dimension). \n",
    "\n",
    "For this part, assume the data is not linearly separable and given a 1-2 sentence qualitative response for all 4 cases (accuracy/running time vs $n$/$d$). (If your perceptron always converges, then the accuracy will be perfect; if you stop before convergence, eg because it's taking too long to run, your accuracy will be less than perfect.)"
   ]
  },
  {
   "cell_type": "markdown",
   "metadata": {},
   "source": [
    "**RESPONSE: **\n",
    "We can use the euclidean distance between perceptron outcome and the true_w to assess the accuracy of the algorithm. accuracy and runtime has linear relationship with $n$. The runtime grow linearly as $d$ increases, and the accuracy remains the same."
   ]
  },
  {
   "cell_type": "markdown",
   "metadata": {
    "id": "wk9hXF66xNBj"
   },
   "source": [
    "## g) Run the perceptron from part (a) on the dataset with an outlier given below. What happens?"
   ]
  },
  {
   "cell_type": "code",
   "execution_count": 131,
   "metadata": {
    "executionInfo": {
     "elapsed": 11,
     "status": "ok",
     "timestamp": 1630458714490,
     "user": {
      "displayName": "Madeleine Udell",
      "photoUrl": "",
      "userId": "02596981583694187873"
     },
     "user_tz": 240
    },
    "id": "2pDQIFdtxNBk"
   },
   "outputs": [],
   "source": [
    "# (re)generate data with same random seed, adding one outlier\n",
    "np.random.seed(3)\n",
    "\n",
    "n = 50\n",
    "d = 2\n",
    "feature_dict = {'feature 1': randn(n),\n",
    "                'feature 2': randn(n),\n",
    "                'offset':    np.ones(n)}\n",
    "X = pd.DataFrame(data=feature_dict)\n",
    "w_true = pd.Series(randn(d+1), index=X.columns)\n",
    "y = np.sign(X.dot(w_true))\n",
    "\n",
    "y[0] = -y[0]"
   ]
  },
  {
   "cell_type": "code",
   "execution_count": 132,
   "metadata": {},
   "outputs": [
    {
     "data": {
      "text/plain": [
       "array([ 4.88353503, -7.85495868, -0.85101361])"
      ]
     },
     "execution_count": 132,
     "metadata": {},
     "output_type": "execute_result"
    }
   ],
   "source": [
    "w_outlier = perceptron(X.to_numpy(),y)\n",
    "w_outlier"
   ]
  },
  {
   "cell_type": "code",
   "execution_count": 133,
   "metadata": {},
   "outputs": [
    {
     "data": {
      "image/png": "[encoded data removed]",
      "text/plain": [
       "<Figure size 640x480 with 1 Axes>"
      ]
     },
     "metadata": {},
     "output_type": "display_data"
    }
   ],
   "source": [
    "plot_perceptron(X,y,w_outlier)"
   ]
  },
  {
   "cell_type": "markdown",
   "metadata": {},
   "source": [
    "**ANSWER:**\n",
    "Perceptron cannot successfully generate hyperplane that splits the two sets of data. In other words, when there is an outlier, perceptron cannot distinguish that and converge to the correct decision boundary."
   ]
  },
  {
   "cell_type": "markdown",
   "metadata": {
    "id": "uElBNDnOxNBl"
   },
   "source": [
    "## h) Try out one idea to fix perceptron\n",
    "Ideas to get started:\n",
    "* how could you identify points that are persistently misclassified, or points whose updates cause many other points to become misclassified?\n",
    "* could you remember good models you saw along the way, even if the final model is bad?"
   ]
  },
  {
   "cell_type": "code",
   "execution_count": null,
   "metadata": {},
   "outputs": [],
   "source": []
  }
 ],
 "metadata": {
  "colab": {
   "collapsed_sections": [],
   "name": "HW1_FA21_INSTRUCTOR.ipynb",
   "provenance": []
  },
  "kernelspec": {
   "display_name": "Python 3 (ipykernel)",
   "language": "python",
   "name": "python3"
  },
  "language_info": {
   "codemirror_mode": {
    "name": "ipython",
    "version": 3
   },
   "file_extension": ".py",
   "mimetype": "text/x-python",
   "name": "python",
   "nbconvert_exporter": "python",
   "pygments_lexer": "ipython3",
   "version": "3.9.13"
  }
 },
 "nbformat": 4,
 "nbformat_minor": 4
}
