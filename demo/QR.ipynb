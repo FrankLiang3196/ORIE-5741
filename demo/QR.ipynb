{
 "cells": [
  {
   "cell_type": "code",
   "execution_count": 1,
   "metadata": {},
   "outputs": [],
   "source": [
    "from scipy.linalg import qr, pinv, solve, norm\n",
    "from numpy.random import randn\n",
    "from numpy.linalg import lstsq\n",
    "import numpy as np"
   ]
  },
  {
   "cell_type": "code",
   "execution_count": 2,
   "metadata": {},
   "outputs": [],
   "source": [
    "# generate random data matrix\n",
    "n,d = 6,4\n",
    "X = randn(n,d)\n",
    "\n",
    "# optional: give it linearly dependent columns\n",
    "# X[:,3] = X[:,2]"
   ]
  },
  {
   "cell_type": "markdown",
   "metadata": {},
   "source": [
    "# Understanding the pseudoinverse"
   ]
  },
  {
   "cell_type": "code",
   "execution_count": 4,
   "metadata": {},
   "outputs": [],
   "source": [
    "# form pseudoinverse\n",
    "Xd = pinv(X)"
   ]
  },
  {
   "cell_type": "code",
   "execution_count": 17,
   "metadata": {},
   "outputs": [
    {
     "data": {
      "text/plain": [
       "array([[ 1.00000000e+00, -4.44089210e-16, -6.85215773e-17,\n",
       "         2.22044605e-16],\n",
       "       [ 2.08166817e-17,  1.00000000e+00, -1.11022302e-16,\n",
       "        -5.41233725e-16],\n",
       "       [ 0.00000000e+00, -6.66133815e-16,  1.00000000e+00,\n",
       "        -5.55111512e-16],\n",
       "       [ 5.55111512e-17, -1.80411242e-16, -8.32667268e-17,\n",
       "         1.00000000e+00]])"
      ]
     },
     "execution_count": 17,
     "metadata": {},
     "output_type": "execute_result"
    }
   ],
   "source": [
    "# X†X ≈ I_d\n",
    "Xd @ X"
   ]
  },
  {
   "cell_type": "code",
   "execution_count": 18,
   "metadata": {},
   "outputs": [
    {
     "data": {
      "text/plain": [
       "True"
      ]
     },
     "execution_count": 18,
     "metadata": {},
     "output_type": "execute_result"
    }
   ],
   "source": [
    "# Returns True if two arrays are element-wise equal within a tolerance.\n",
    "np.allclose(Xd @ X, np.identity(4))"
   ]
  },
  {
   "cell_type": "code",
   "execution_count": 19,
   "metadata": {},
   "outputs": [
    {
     "data": {
      "text/plain": [
       "array([[ 0.67998416, -0.06126728,  0.02758355, -0.04062915,  0.11925649,\n",
       "        -0.44409271],\n",
       "       [-0.06126728,  0.97228026, -0.08862448,  0.0729915 ,  0.00945393,\n",
       "        -0.09963052],\n",
       "       [ 0.02758355, -0.08862448,  0.44614148,  0.47784237, -0.08884353,\n",
       "        -0.04751423],\n",
       "       [-0.04062915,  0.0729915 ,  0.47784237,  0.58685162,  0.08271559,\n",
       "         0.01741001],\n",
       "       [ 0.11925649,  0.00945393, -0.08884353,  0.08271559,  0.94436579,\n",
       "         0.15327268],\n",
       "       [-0.44409271, -0.09963052, -0.04751423,  0.01741001,  0.15327268,\n",
       "         0.37037669]])"
      ]
     },
     "execution_count": 19,
     "metadata": {},
     "output_type": "execute_result"
    }
   ],
   "source": [
    "# XX† !≈ I_n\n",
    "X @ Xd"
   ]
  },
  {
   "cell_type": "code",
   "execution_count": 20,
   "metadata": {},
   "outputs": [
    {
     "data": {
      "text/plain": [
       "False"
      ]
     },
     "execution_count": 20,
     "metadata": {},
     "output_type": "execute_result"
    }
   ],
   "source": [
    "np.allclose(X @ Xd, np.identity(6))"
   ]
  },
  {
   "cell_type": "code",
   "execution_count": 21,
   "metadata": {},
   "outputs": [],
   "source": [
    "Q,R = qr(X)\n",
    "Q,R = qr(X, mode='economic')"
   ]
  },
  {
   "cell_type": "code",
   "execution_count": 10,
   "metadata": {},
   "outputs": [
    {
     "data": {
      "text/plain": [
       "True"
      ]
     },
     "execution_count": 10,
     "metadata": {},
     "output_type": "execute_result"
    }
   ],
   "source": [
    "np.allclose(X, Q @ R)"
   ]
  },
  {
   "cell_type": "code",
   "execution_count": 25,
   "metadata": {},
   "outputs": [
    {
     "data": {
      "text/plain": [
       "array([[-0.63593743,  0.39918996, -0.17512136,  0.29248525],\n",
       "       [ 0.15011847, -0.57769033, -0.49545855,  0.60871949],\n",
       "       [-0.17308819, -0.03794072, -0.42442154, -0.48436434],\n",
       "       [-0.22859713, -0.30900493, -0.45182898, -0.48472826],\n",
       "       [-0.64452188, -0.5490338 ,  0.47528565,  0.04028357],\n",
       "       [ 0.27463321, -0.32948384,  0.33715546, -0.26966626]])"
      ]
     },
     "execution_count": 25,
     "metadata": {},
     "output_type": "execute_result"
    }
   ],
   "source": [
    "Q"
   ]
  },
  {
   "cell_type": "code",
   "execution_count": 28,
   "metadata": {},
   "outputs": [
    {
     "data": {
      "text/plain": [
       "array([[-2.31838389,  0.79354111,  0.15815649, -0.93417737],\n",
       "       [ 0.        ,  2.7546115 , -0.34380807, -0.70346924],\n",
       "       [ 0.        ,  0.        ,  1.00978209,  1.07517907],\n",
       "       [ 0.        ,  0.        ,  0.        ,  3.12577376]])"
      ]
     },
     "execution_count": 28,
     "metadata": {},
     "output_type": "execute_result"
    }
   ],
   "source": [
    "R"
   ]
  },
  {
   "cell_type": "code",
   "execution_count": 29,
   "metadata": {},
   "outputs": [
    {
     "name": "stdout",
     "output_type": "stream",
     "text": [
      "True\n"
     ]
    },
    {
     "data": {
      "text/plain": [
       "array([[ 1.00000000e+00, -1.14800337e-17, -1.86049288e-17,\n",
       "        -7.27564627e-17],\n",
       "       [-1.14800337e-17,  1.00000000e+00, -1.46577551e-16,\n",
       "         5.73168480e-17],\n",
       "       [-1.86049288e-17, -1.46577551e-16,  1.00000000e+00,\n",
       "        -1.08279204e-17],\n",
       "       [-7.27564627e-17,  5.73168480e-17, -1.08279204e-17,\n",
       "         1.00000000e+00]])"
      ]
     },
     "execution_count": 29,
     "metadata": {},
     "output_type": "execute_result"
    }
   ],
   "source": [
    "print(np.allclose(Q.T @ Q, np.identity(Q.shape[1])))\n",
    "Q.T @ Q"
   ]
  },
  {
   "cell_type": "code",
   "execution_count": 35,
   "metadata": {},
   "outputs": [],
   "source": [
    "# form data from noisy linear model\n",
    "wtrue = randn(d)\n",
    "y = X.dot(wtrue) + .01*randn(n)"
   ]
  },
  {
   "cell_type": "code",
   "execution_count": 36,
   "metadata": {},
   "outputs": [],
   "source": [
    "# solve least squares problem to estimate w\n",
    "Q,R = qr(X, mode='economic')\n",
    "w = solve(R, Q.T @ y) # solve(a,b): a @ x == b for unknown x (R @ w=Q.T @y)"
   ]
  },
  {
   "cell_type": "code",
   "execution_count": 37,
   "metadata": {},
   "outputs": [
    {
     "data": {
      "text/plain": [
       "0.013243971713760416"
      ]
     },
     "execution_count": 37,
     "metadata": {},
     "output_type": "execute_result"
    }
   ],
   "source": [
    "# how good is our estimate?\n",
    "norm(w - wtrue)"
   ]
  },
  {
   "cell_type": "code",
   "execution_count": 38,
   "metadata": {},
   "outputs": [
    {
     "data": {
      "text/plain": [
       "2.582302736553733e-06"
      ]
     },
     "execution_count": 38,
     "metadata": {},
     "output_type": "execute_result"
    }
   ],
   "source": [
    "# compute mean square error\n",
    "def mse(y,z):\n",
    "    return sum((y-z)**2)/len(y)\n",
    "    \n",
    "mse(y,X.dot(w))"
   ]
  },
  {
   "cell_type": "code",
   "execution_count": 41,
   "metadata": {},
   "outputs": [
    {
     "data": {
      "text/plain": [
       "8.804469334467935e-16"
      ]
     },
     "execution_count": 41,
     "metadata": {},
     "output_type": "execute_result"
    }
   ],
   "source": [
    "# we can use the numpy.lstsq call instead\n",
    "w_lstsq = np.linalg.lstsq(X, y, rcond=None)[0]\n",
    "norm(w_lstsq - w)"
   ]
  },
  {
   "cell_type": "markdown",
   "metadata": {},
   "source": [
    "# Compute QR by hand"
   ]
  },
  {
   "cell_type": "code",
   "execution_count": 18,
   "metadata": {},
   "outputs": [
    {
     "data": {
      "text/plain": [
       "array([[-0.47534812,  0.        ,  0.        ,  0.        ,  0.        ,\n",
       "         0.        ],\n",
       "       [ 0.02906357,  0.        ,  0.        ,  0.        ,  0.        ,\n",
       "         0.        ],\n",
       "       [ 0.00071364,  0.        ,  0.        ,  0.        ,  0.        ,\n",
       "         0.        ],\n",
       "       [ 0.45358044,  0.        ,  0.        ,  0.        ,  0.        ,\n",
       "         0.        ],\n",
       "       [-0.26950649,  0.        ,  0.        ,  0.        ,  0.        ,\n",
       "         0.        ],\n",
       "       [-0.70344154,  0.        ,  0.        ,  0.        ,  0.        ,\n",
       "         0.        ]])"
      ]
     },
     "execution_count": 18,
     "metadata": {},
     "output_type": "execute_result"
    }
   ],
   "source": [
    "n,d = X.shape \n",
    "X0 = X.copy()\n",
    "R = np.zeros((n,d))\n",
    "Q = np.zeros((n,n))\n",
    "\n",
    "# first column of Q points in direction of first column of X\n",
    "r = norm(X[:,0])\n",
    "Q[:,0] = X[:,0]/r\n",
    "Q"
   ]
  },
  {
   "cell_type": "code",
   "execution_count": 19,
   "metadata": {},
   "outputs": [],
   "source": [
    "# ensure Q*R matches X on first column\n",
    "R[0,0] = r"
   ]
  },
  {
   "cell_type": "code",
   "execution_count": 20,
   "metadata": {},
   "outputs": [
    {
     "data": {
      "text/plain": [
       "array([0., 0., 0., 0., 0., 0.])"
      ]
     },
     "execution_count": 20,
     "metadata": {},
     "output_type": "execute_result"
    }
   ],
   "source": [
    "# verify Q*R matches X in first column\n",
    "(Q@R - X)[:,0]"
   ]
  },
  {
   "cell_type": "code",
   "execution_count": 21,
   "metadata": {},
   "outputs": [],
   "source": [
    "# now delete that part from X; we've covered it already\n",
    "X[:,0] -= Q[:,0]*R[0,0]"
   ]
  },
  {
   "cell_type": "code",
   "execution_count": 22,
   "metadata": {},
   "outputs": [
    {
     "data": {
      "text/plain": [
       "array([[ True,  True,  True,  True],\n",
       "       [ True,  True,  True,  True],\n",
       "       [ True,  True,  True,  True],\n",
       "       [ True,  True,  True,  True],\n",
       "       [ True,  True,  True,  True],\n",
       "       [ True,  True,  True,  True]])"
      ]
     },
     "execution_count": 22,
     "metadata": {},
     "output_type": "execute_result"
    }
   ],
   "source": [
    "# verify Q*R + X = X0\n",
    "np.isclose(Q@R + X, X0)"
   ]
  },
  {
   "cell_type": "code",
   "execution_count": 23,
   "metadata": {},
   "outputs": [
    {
     "data": {
      "text/plain": [
       "array([[ 3.74544392, -0.69063861,  0.96961492,  0.82682362],\n",
       "       [ 0.        ,  0.        ,  0.        ,  0.        ],\n",
       "       [ 0.        ,  0.        ,  0.        ,  0.        ],\n",
       "       [ 0.        ,  0.        ,  0.        ,  0.        ],\n",
       "       [ 0.        ,  0.        ,  0.        ,  0.        ],\n",
       "       [ 0.        ,  0.        ,  0.        ,  0.        ]])"
      ]
     },
     "execution_count": 23,
     "metadata": {},
     "output_type": "execute_result"
    }
   ],
   "source": [
    "# eliminate component of other columns in direction of first column of Q \n",
    "for j in range(1,d):\n",
    "    R[0,j] = Q[:,0].dot(X[:,j])\n",
    "    X[:,j] -= Q[:,0]*R[0,j]\n",
    "R"
   ]
  },
  {
   "cell_type": "code",
   "execution_count": 24,
   "metadata": {},
   "outputs": [
    {
     "data": {
      "text/plain": [
       "array([[ True,  True,  True,  True],\n",
       "       [ True,  True,  True,  True],\n",
       "       [ True,  True,  True,  True],\n",
       "       [ True,  True,  True,  True],\n",
       "       [ True,  True,  True,  True],\n",
       "       [ True,  True,  True,  True]])"
      ]
     },
     "execution_count": 24,
     "metadata": {},
     "output_type": "execute_result"
    }
   ],
   "source": [
    "# verify Q*R + X = X0\n",
    "np.isclose(Q@R + X, X0)"
   ]
  },
  {
   "cell_type": "code",
   "execution_count": 25,
   "metadata": {},
   "outputs": [
    {
     "name": "stdout",
     "output_type": "stream",
     "text": [
      "iteration 0 : QR + X = X0? True\n",
      "iteration 1 : QR + X = X0? True\n",
      "iteration 2 : QR + X = X0? True\n",
      "iteration 3 : QR + X = X0? True\n"
     ]
    }
   ],
   "source": [
    "# now for all the columns!\n",
    "X = X0.copy()\n",
    "Q *= 0\n",
    "R *= 0\n",
    "\n",
    "# compute the QR decomposition\n",
    "for i in range(d):\n",
    "    r = norm(X[:,i])\n",
    "    Q[:,i] = X[:,i]/r\n",
    "    for j in range(i,d):\n",
    "        R[i,j] = Q[:,i].dot(X[:,j])\n",
    "        X[:,j] -= Q[:,i]*R[i,j]\n",
    "    print(\"iteration\",i,\": QR + X = X0?\", np.isclose(Q@R + X, X0).all())"
   ]
  },
  {
   "cell_type": "code",
   "execution_count": 26,
   "metadata": {},
   "outputs": [],
   "source": [
    "\"\"\"Our very own QR function to compute the economy QR\"\"\"\n",
    "def ourQR(X0):\n",
    "    X = X0.copy()\n",
    "    n,d = X.shape\n",
    "    R = np.zeros((n,d))\n",
    "    Q = np.zeros((n,n))\n",
    "\n",
    "    # compute the QR decomposition\n",
    "    for i in range(d):\n",
    "        r = norm(X[:,i])\n",
    "        Q[:,i] = X[:,i]/r\n",
    "        for j in range(i,d):\n",
    "            R[i,j] = Q[:,i].dot(X[:,j])\n",
    "            X[:,j] -= Q[:,i]*R[i,j]\n",
    "    return Q,R"
   ]
  },
  {
   "cell_type": "code",
   "execution_count": 31,
   "metadata": {},
   "outputs": [],
   "source": [
    "# solve least squares problem to estimate w\n",
    "Q,R = ourQR(X0)\n",
    "w_byhand = solve(R[:d,:d], (Q.T @ y)[:d])"
   ]
  },
  {
   "cell_type": "code",
   "execution_count": 32,
   "metadata": {},
   "outputs": [
    {
     "data": {
      "text/plain": [
       "1.3822165187958571e-15"
      ]
     },
     "execution_count": 32,
     "metadata": {},
     "output_type": "execute_result"
    }
   ],
   "source": [
    "norm(w_byhand - w)"
   ]
  },
  {
   "cell_type": "code",
   "execution_count": null,
   "metadata": {},
   "outputs": [],
   "source": []
  }
 ],
 "metadata": {
  "@webio": {
   "lastCommId": null,
   "lastKernelId": null
  },
  "kernelspec": {
   "display_name": "Python 3",
   "language": "python",
   "name": "python3"
  },
  "language_info": {
   "codemirror_mode": {
    "name": "ipython",
    "version": 3
   },
   "file_extension": ".py",
   "mimetype": "text/x-python",
   "name": "python",
   "nbconvert_exporter": "python",
   "pygments_lexer": "ipython3",
   "version": "3.8.8"
  }
 },
 "nbformat": 4,
 "nbformat_minor": 4
}
