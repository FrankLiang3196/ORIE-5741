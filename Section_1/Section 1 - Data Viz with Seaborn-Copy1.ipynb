{
 "cells": [
  {
   "cell_type": "markdown",
   "metadata": {},
   "source": [
    "# <font color='#B31B1B'> Data Visualization with Seaborn </font>\n",
    "\n",
    "\n",
    "Just like a picture tells a 1000 words, a graph can summarize 1000s of data points and can tell a story that a spreadsheet or summary statistic can't hold a torch to. In this notebook we'll be working through how to make jaw-dropping graphs in seaborn. "
   ]
  },
  {
   "cell_type": "markdown",
   "metadata": {},
   "source": [
    "### <font color='#B31B1B'> Imports </font>\n",
    "\n",
    "For today's class we'll be using the package Seaborn (common convention is to imported it as sns - watch West Wing for the reason why!). Seaborn is a wrapper (meaning that it groups functionality from another package in an easier format) for matplotlib, a very common graphing library that can be a little clunky to write. For the majority of your needs, seaborn is quicker and prettier - but we'll import matplotlib for some specific functionality."
   ]
  },
  {
   "cell_type": "code",
   "execution_count": 1,
   "metadata": {},
   "outputs": [],
   "source": [
    "import pandas as pd\n",
    "import numpy as np\n",
    "\n",
    "import matplotlib.pyplot as plt\n",
    "import matplotlib.image as mpimg\n",
    "\n",
    "#This is so that you don't see a bunch of code 'warnings' (things that you could change but don't have to right now)\n",
    "import warnings\n",
    "warnings.filterwarnings(\"ignore\")\n",
    "\n",
    "import seaborn as sns\n",
    "\n",
    "#This makes all of our graphs show up in our notebook when they're made\n",
    "%matplotlib inline"
   ]
  },
  {
   "cell_type": "markdown",
   "metadata": {},
   "source": [
    "For this notebook (and if you want to follow the Seaborn help pages) you'll need the most recent version of seaborn (0.10.1) - let's check our package version. If yours says something below 0.10.1, make sure to install the latest version (i.e. by using conda install seaborn in your environment)."
   ]
  },
  {
   "cell_type": "code",
   "execution_count": null,
   "metadata": {},
   "outputs": [],
   "source": [
    "sns.__version__"
   ]
  },
  {
   "cell_type": "markdown",
   "metadata": {},
   "source": [
    "We're also going to add this handy line that sets the aesthetics (what all of our graphs look like) to the default seaborn style. Don't worry, we'll play around with aesthetics more at the end of this notebook!"
   ]
  },
  {
   "cell_type": "code",
   "execution_count": null,
   "metadata": {},
   "outputs": [],
   "source": [
    "sns.set()"
   ]
  },
  {
   "cell_type": "markdown",
   "metadata": {},
   "source": [
    "### <font color='#B31B1B'> 1. Seaborn Datasets </font>\n"
   ]
  },
  {
   "cell_type": "markdown",
   "metadata": {},
   "source": [
    "To start, we're going to need something to actually plot! Seaborn makes a small list of datasets easily available:"
   ]
  },
  {
   "cell_type": "code",
   "execution_count": null,
   "metadata": {},
   "outputs": [],
   "source": [
    "sns.get_dataset_names()"
   ]
  },
  {
   "cell_type": "markdown",
   "metadata": {},
   "source": [
    "This makes it easier to learn how to use the library using standard data"
   ]
  },
  {
   "cell_type": "code",
   "execution_count": null,
   "metadata": {},
   "outputs": [],
   "source": [
    "tips = sns.load_dataset(\"tips\")\n",
    "tips"
   ]
  },
  {
   "cell_type": "markdown",
   "metadata": {},
   "source": [
    "### <font color='#B31B1B'> 2. Relational Plots </font>"
   ]
  },
  {
   "cell_type": "markdown",
   "metadata": {},
   "source": [
    "Seaborn makes plotting super easy, and integreates seamlessly with the use of dataframes. Making an attractive scatter plot is as simple as setting the data frame (data parameter), and specifying what you want on your x and y axes!\n",
    "\n",
    "Relational plots have numerical data on both the x and y axis (think scatterplot)"
   ]
  },
  {
   "cell_type": "code",
   "execution_count": null,
   "metadata": {},
   "outputs": [],
   "source": [
    "fg = sns.relplot(x=\"total_bill\", y=\"tip\", data=tips, kind=\"scatter\")"
   ]
  },
  {
   "cell_type": "markdown",
   "metadata": {},
   "source": [
    "Making more complex figures is just as simple! In this plot we're going to change the dots in our scatter plot to have a different size and color based on other data we have (think of it as mapping columns to different visual aspects of our plot)."
   ]
  },
  {
   "cell_type": "code",
   "execution_count": null,
   "metadata": {},
   "outputs": [],
   "source": [
    "fg = sns.relplot(x=\"total_bill\", y=\"tip\", data=tips, kind=\"scatter\",\n",
    "            hue=\"sex\", size=\"size\",\n",
    "            )"
   ]
  },
  {
   "cell_type": "markdown",
   "metadata": {},
   "source": [
    "We can even specify the order in which colors are used!"
   ]
  },
  {
   "cell_type": "code",
   "execution_count": null,
   "metadata": {},
   "outputs": [],
   "source": [
    "sns.relplot(x=\"total_bill\", y=\"tip\", data=tips, kind=\"scatter\",\n",
    "            hue=\"sex\", size=\"size\",\n",
    "            hue_order=[\"Male\", \"Female\"],  \n",
    "            )"
   ]
  },
  {
   "cell_type": "markdown",
   "metadata": {},
   "source": [
    "And differnet marker types - the options are pretty amazing!"
   ]
  },
  {
   "cell_type": "code",
   "execution_count": null,
   "metadata": {},
   "outputs": [],
   "source": [
    "sns.relplot(x=\"total_bill\", y=\"tip\", data=tips, kind=\"scatter\",\n",
    "            hue=\"sex\", size=\"size\", style='smoker',\n",
    "            hue_order=[\"Female\", \"Male\"],  \n",
    "            )"
   ]
  },
  {
   "cell_type": "markdown",
   "metadata": {},
   "source": [
    "One of the main advantages of seaborn is that making graphs with segments of our data is a breeze, let's take a look at our data but only at smaller data segments based on the day of the week (rows) and whether or not the customer was a smoker (column)."
   ]
  },
  {
   "cell_type": "code",
   "execution_count": null,
   "metadata": {
    "scrolled": false
   },
   "outputs": [],
   "source": [
    "fg = sns.relplot(x=\"total_bill\", y=\"tip\", data=tips, kind=\"scatter\",\n",
    "            hue=\"sex\", size=\"size\", \n",
    "            col='smoker', row='day', style='time',\n",
    "            row_order=[\"Thur\", \"Fri\", \"Sat\", 'Sun']\n",
    "            )\n",
    "\n",
    "#Based on this graph - can you figure out how we set how we segment the data?"
   ]
  },
  {
   "cell_type": "markdown",
   "metadata": {},
   "source": [
    "### <font color='#B31B1B'> 3. Categorical Plots </font>\n",
    "We've looked at plotting numeric data on each axis, but what if we wanted to plot categorical data? For that seaborn offers catplot (CATegorical PLOT). Let's take it for a spin by making a bar plot:"
   ]
  },
  {
   "cell_type": "code",
   "execution_count": null,
   "metadata": {},
   "outputs": [],
   "source": [
    "sns.catplot(x=\"sex\", y=\"total_bill\", hue=\"day\", data=tips, kind=\"bar\")"
   ]
  },
  {
   "cell_type": "markdown",
   "metadata": {},
   "source": [
    "Sometimes bar plots aren't the best at showing a distribution of data, for that we can use other kinds of categorical plots."
   ]
  },
  {
   "cell_type": "code",
   "execution_count": null,
   "metadata": {},
   "outputs": [],
   "source": [
    "sns.catplot(x=\"sex\", y=\"total_bill\", hue=\"day\", data=tips, kind=\"violin\", \n",
    "            jitter=False, dodge=True)"
   ]
  },
  {
   "cell_type": "markdown",
   "metadata": {},
   "source": [
    "Sometimes all the points being on the same point can hide what the actual distribution of data is - try changing the jitter parameter above to see what happens!"
   ]
  },
  {
   "cell_type": "markdown",
   "metadata": {},
   "source": [
    "### <font color='#B31B1B'> 4. Advanced Plots </font>\n",
    "We've explored some pretty cool (and helpful) functionality in seaborn, but sometimes we want to do quick explorations of a lot of data and thinking about each variable might be a little time consuming. Lucky for us, Seaborn has some great built-in features that let's get holistic views of our data quickly!"
   ]
  },
  {
   "cell_type": "markdown",
   "metadata": {},
   "source": [
    "### <font color='#B31B1B'> Pair Plot </font>\n",
    "\n",
    "The first kind of advanced plot we look at is the pair plot, which shows all the pairwise comparisons in our dataset (optionally conditioned on a categorical variable). Let's take a look at our tips dataset and see what pair plot can generate."
   ]
  },
  {
   "cell_type": "code",
   "execution_count": null,
   "metadata": {},
   "outputs": [],
   "source": [
    "tips.head()"
   ]
  },
  {
   "cell_type": "code",
   "execution_count": null,
   "metadata": {},
   "outputs": [],
   "source": [
    "tips.dtypes"
   ]
  },
  {
   "cell_type": "code",
   "execution_count": null,
   "metadata": {},
   "outputs": [],
   "source": [
    "#We've made a pair plot conditioned on gender - try removing the hue condition and see what happens\n",
    "pp = sns.pairplot(tips, hue=\"sex\")"
   ]
  },
  {
   "cell_type": "markdown",
   "metadata": {},
   "source": [
    "Once you finish marvelling at how gorgeous this graph is, do you notice anything about what columns pairplot chooses to do comparisons on?"
   ]
  },
  {
   "cell_type": "markdown",
   "metadata": {},
   "source": [
    "### <font color='#B31B1B'> Joint Plot </font>\n",
    "\n",
    "Another thing we might be interested in looking at is a deep dive on two variables. Seaborn let's us do a joint plot of two numeric variables - showing us a representation of their **joint** distribution (distribution of both variables together - think scatter plot!), and the **marginal** distributions of each variable (which is just the distribution of each variable separately - think histogram!)."
   ]
  },
  {
   "cell_type": "code",
   "execution_count": null,
   "metadata": {},
   "outputs": [],
   "source": [
    "tips"
   ]
  },
  {
   "cell_type": "code",
   "execution_count": null,
   "metadata": {},
   "outputs": [],
   "source": [
    "jp = sns.jointplot(data=tips, x = \"total_bill\", y = \"tip\")"
   ]
  },
  {
   "cell_type": "markdown",
   "metadata": {},
   "source": [
    "Joint plot has some really cool different types of plots. 'KDE' (Kernel Density Estimation) fits a smooth distribution over your data points."
   ]
  },
  {
   "cell_type": "code",
   "execution_count": null,
   "metadata": {},
   "outputs": [],
   "source": [
    "jp = sns.jointplot(data=tips, x = \"total_bill\", y = \"tip\",  kind=\"kde\")"
   ]
  },
  {
   "cell_type": "markdown",
   "metadata": {},
   "source": [
    "### <font color='#B31B1B'> 4. Style </font>\n",
    "Don't get me wrong, the built-in seaborn aesthetics look amazing (take a peak at matplotlib if you want to see how much of a step up you're starting with in seaborn). But sometimes you want to customize your graph even further! Seaborn's still got you covered. The first thing we can do is set different seaborn themes in our sns.set() function (take a peek at the help docs to see what you can change)!"
   ]
  },
  {
   "cell_type": "code",
   "execution_count": null,
   "metadata": {},
   "outputs": [],
   "source": [
    "#Let's change the style and palette and see what happens\n",
    "sns.set(style=\"ticks\", palette=\"muted\")\n",
    "sns.relplot(x=\"total_bill\", y=\"tip\", col=\"time\",\n",
    "            hue=\"smoker\", style=\"smoker\", size=\"size\",\n",
    "            data=tips);"
   ]
  },
  {
   "cell_type": "code",
   "execution_count": null,
   "metadata": {},
   "outputs": [],
   "source": []
  },
  {
   "cell_type": "markdown",
   "metadata": {},
   "source": [
    "If you only want to change things for a specific graph, most seaborn functions accept additional parameters that let you change the style of that graph. Let's check out an example: "
   ]
  },
  {
   "cell_type": "code",
   "execution_count": null,
   "metadata": {},
   "outputs": [],
   "source": [
    "sns.relplot(x=\"total_bill\", y=\"tip\", col=\"time\",\n",
    "            hue=\"size\", style=\"smoker\", size=\"size\",\n",
    "            palette=\"YlGnBu\", markers=[\"D\", \"o\"], sizes=(10, 125),\n",
    "            edgecolor=\".2\", linewidth=.5, alpha=.75,\n",
    "            data=tips);"
   ]
  },
  {
   "cell_type": "markdown",
   "metadata": {},
   "source": [
    "If you're really craving something wildly different than what Seaborn offers you can also dig into the weeds and leverage matplotlib's underlying functionality. Some super handy ones are the ability to change axis labels (a necessity for beautiful graphs), and changing legend labels."
   ]
  },
  {
   "cell_type": "code",
   "execution_count": null,
   "metadata": {},
   "outputs": [],
   "source": [
    "g = sns.catplot(x=\"total_bill\", y=\"day\", hue=\"time\",\n",
    "                height=3.5, aspect=1.5,\n",
    "                kind=\"box\", legend=False, data=tips);\n",
    "\n",
    "#You can add titles to your legend using add_legend\n",
    "g.add_legend(title=\"Meal\", )\n",
    "\n",
    "#And change the axis labels using set_axis_labels\n",
    "g.set_axis_labels(\"Total bill ($)\", \"\")\n",
    "\n",
    "#You can even set specific legend ticks\n",
    "g.set(xlim=(0, 60), yticklabels=[\"Thursday\", \"Friday\", \"Saturday\", \"Sunday\"])\n",
    "\n",
    "\n",
    "#To set nice legend labels you haave to dig into the legend itself and update the text\n",
    "\n",
    "new_labels = ['Brunch', 'Lunner']\n",
    "for t, l in zip(g._legend.texts, new_labels): t.set_text(l)\n",
    "\n",
    "#We can alter the angle of labels (this is handy when you have a lot of long text in your x axis)\n",
    "plt.setp(g.ax.get_yticklabels(), rotation=30);\n",
    "\n",
    "#We can also customize tick labels\n",
    "g.ax.set_xticks([5, 15, 25, 35, 45, 55], minor=True);\n"
   ]
  },
  {
   "cell_type": "markdown",
   "metadata": {},
   "source": [
    "Because seaborn is a wrapper for matplotlib you can leverage alot of matplotlib's underlying functionality too! One of the cool things you can do is set your graphs to some default settings matplotlib has in their style sub package."
   ]
  },
  {
   "cell_type": "code",
   "execution_count": null,
   "metadata": {},
   "outputs": [],
   "source": [
    "#First let's import it\n",
    "import matplotlib.style as style\n",
    "\n",
    "#Now we can see the list of default styles they have\n",
    "style.available"
   ]
  },
  {
   "cell_type": "markdown",
   "metadata": {},
   "source": [
    "If you're a fan of data journalism you've probably heard of (and/or are obsessed with) fivethirtyeight. Let's take a peak at what a graph would look like with their iconic aesthetic."
   ]
  },
  {
   "cell_type": "code",
   "execution_count": null,
   "metadata": {},
   "outputs": [],
   "source": [
    "# To set the style we use style.use (this is incidentally what sns.set() is doing!)\n",
    "style.use('fivethirtyeight')\n",
    "pp = sns.pairplot(tips, hue=\"sex\")"
   ]
  },
  {
   "cell_type": "markdown",
   "metadata": {},
   "source": [
    "Nifty right! Play around with some other styles to settle on a favorite you can whip out to dazzle your boss with at your internship. For now let's set our style back to seaborn (or not if you prefer something else!)"
   ]
  },
  {
   "cell_type": "code",
   "execution_count": null,
   "metadata": {},
   "outputs": [],
   "source": [
    "sns.set()"
   ]
  },
  {
   "cell_type": "markdown",
   "metadata": {},
   "source": [
    "### <font color='#B31B1B'> Practice! </font>\n",
    "**Note these not homework - just some questions to flex your seaborn muscles **\n",
    "\n",
    "\n",
    "#### <font color='#B31B1B'>  Exercise 1 </font>\n",
    "Let's practice just how quick and easy it is to knock out a beautiful graph. Load in the diamonds dataframe from seaborn and make a figure that plots carat versus price. Try coloring it by color!"
   ]
  },
  {
   "cell_type": "code",
   "execution_count": null,
   "metadata": {},
   "outputs": [],
   "source": []
  },
  {
   "cell_type": "code",
   "execution_count": null,
   "metadata": {},
   "outputs": [],
   "source": []
  },
  {
   "cell_type": "markdown",
   "metadata": {},
   "source": [
    "#### <font color='#B31B1B'>  Exercise 2 </font>\n",
    "Yikes that's a ton of data on one plot, let's make a grid of plots that segments our data by color (rows) and cut (columns). Once done please note - you just made 35 graphs with one line of code - that's pretty fricken cool!"
   ]
  },
  {
   "cell_type": "code",
   "execution_count": null,
   "metadata": {},
   "outputs": [],
   "source": []
  },
  {
   "cell_type": "code",
   "execution_count": null,
   "metadata": {},
   "outputs": [],
   "source": []
  },
  {
   "cell_type": "markdown",
   "metadata": {},
   "source": [
    "#### <font color='#B31B1B'>  Exercise 3 </font>\n",
    "Take one of the graphs we've made earlier in this notebook and flex your creative muscle. Try to change at least three visual parameters manually in the function (check the help docs for the function you're using to see what you can change). You should also try out a different style from matplotlib. Sky's the limit, make something beautiful!"
   ]
  },
  {
   "cell_type": "code",
   "execution_count": null,
   "metadata": {},
   "outputs": [],
   "source": []
  }
 ],
 "metadata": {
  "celltoolbar": "Raw Cell Format",
  "kernelspec": {
   "display_name": "Python 3 (ipykernel)",
   "language": "python",
   "name": "python3"
  },
  "language_info": {
   "codemirror_mode": {
    "name": "ipython",
    "version": 3
   },
   "file_extension": ".py",
   "mimetype": "text/x-python",
   "name": "python",
   "nbconvert_exporter": "python",
   "pygments_lexer": "ipython3",
   "version": "3.8.16"
  }
 },
 "nbformat": 4,
 "nbformat_minor": 2
}
